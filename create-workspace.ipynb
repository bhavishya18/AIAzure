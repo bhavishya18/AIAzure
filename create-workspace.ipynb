{
 "cells": [
  {
   "cell_type": "code",
   "execution_count": null,
   "metadata": {},
   "outputs": [],
   "source": [
    "#import worskpace constructor and create a workspace\n",
    "\n",
    "from azureml.core import Workspace\n",
    "lqai_ws = Workspace.create(name=''<REPLACE_WITH_NAME>'',\n",
    "                            subscription_id='<REPLACE_WITH_YOUR_SUBSCRIPTION_KEY>',\n",
    "                            resource_group='<REPLACE_WITH_YOUR_RESOURCE_GROUP_OR_CREATE A NEW ONE>',\n",
    "                            create_resource_group=False,\n",
    "                            location='eastus')"
   ]
  },
  {
   "cell_type": "code",
   "execution_count": null,
   "metadata": {},
   "outputs": [],
   "source": [
    "#create a workspace config file to reference you workspace without needing to specify the identifying variables\n",
    "lqai_ws.write_config(path=\"./\", file_name=\"ws_config.json\")"
   ]
  },
  {
   "cell_type": "code",
   "execution_count": null,
   "metadata": {},
   "outputs": [],
   "source": [
    "!cat .azureml/ws_config.json"
   ]
  },
  {
   "cell_type": "code",
   "execution_count": null,
   "metadata": {},
   "outputs": [],
   "source": []
  },
  {
   "cell_type": "code",
   "execution_count": null,
   "metadata": {},
   "outputs": [],
   "source": []
  }
 ],
 "metadata": {
  "kernelspec": {
   "display_name": "Python 2",
   "language": "python",
   "name": "python2"
  },
  "language_info": {
   "codemirror_mode": {
    "name": "ipython",
    "version": 2
   },
   "file_extension": ".py",
   "mimetype": "text/x-python",
   "name": "python",
   "nbconvert_exporter": "python",
   "pygments_lexer": "ipython2",
   "version": "2.7.15"
  }
 },
 "nbformat": 4,
 "nbformat_minor": 2
}
