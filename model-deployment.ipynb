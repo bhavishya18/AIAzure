{
 "cells": [
  {
   "cell_type": "markdown",
   "metadata": {},
   "source": [
    "\n",
    "\n",
    " # Connect to our Worskpace"
   ]
  },
  {
   "cell_type": "code",
   "execution_count": null,
   "metadata": {},
   "outputs": [],
   "source": [
    "#Let's connect to our workspace:\n",
    "from azureml.core import Workspace\n",
    "ws = Workspace.from_config(path=\".azureml/ws_config.json\")\n",
    "ws"
   ]
  },
  {
   "cell_type": "markdown",
   "metadata": {},
   "source": [
    "# Reference our registered model:"
   ]
  },
  {
   "cell_type": "code",
   "execution_count": null,
   "metadata": {},
   "outputs": [],
   "source": [
    "#Let's reference our registered model:\n",
    "from azureml.core.model import Model\n",
    "print(Model.list(workspace = ws))\n",
    "print(\"______________________________\")\n",
    "print(Model.get_model_path('sklearn_bh_lr'))\n",
    "print(\"______________________________\")\n",
    "model_path = Model.get_model_path('sklearn_bh_lr')\n",
    "model = Model(ws,'sklearn_bh_lr')\n",
    "print(model)\n",
    "print(\"______________________________\")\n",
    "print(type(model))\n"
   ]
  },
  {
   "cell_type": "code",
   "execution_count": null,
   "metadata": {},
   "outputs": [],
   "source": [
    "!ls -al azureml-models/sklearn_bh_lr/"
   ]
  },
  {
   "cell_type": "markdown",
   "metadata": {},
   "source": [
    "# Build an entry script"
   ]
  },
  {
   "cell_type": "code",
   "execution_count": null,
   "metadata": {},
   "outputs": [],
   "source": [
    "import json\n",
    "import pickle\n",
    "import numpy as np\n",
    "import pandas as pd\n",
    "from sklearn.externals import joblib\n",
    "from azureml.core.model import Model\n",
    "\n",
    "sample = json.dumps({\"data\": [7.534]})\n",
    "print(sample)\n",
    "print(type(sample))\n",
    "print(json.loads(sample)['data'])\n",
    "my_array = np.array(json.loads(sample)['data'])\n",
    "print(my_array.shape)\n",
    "my2d_array = my_array.reshape(-1,1)\n",
    "print(my2d_array)\n",
    "print(my2d_array.shape)\n",
    "##test_samples = bytes(test_samples, encoding='utf8')\n",
    "\n",
    "#print(Model.list(ws))\n",
    "model_path = Model.get_model_path(model_name = 'sklearn_bh_lr')\n",
    "print(model_path)\n",
    "\n",
    "local_model = joblib.load(model_path)\n",
    "print(\"local_model: \", local_model.predict(my2d_array))\n",
    "\n",
    "\n",
    "def run(data):\n",
    "    data = np.array(json.loads(data)['data'])\n",
    "    result = local_model.predict(data.reshape(-1,1))\n",
    "    \n",
    "    return result.tolist()\n",
    "    \n",
    "print(\"local_model_through_run_function: \", run(sample))  \n"
   ]
  },
  {
   "cell_type": "code",
   "execution_count": null,
   "metadata": {},
   "outputs": [],
   "source": [
    "%%writefile score.py\n",
    "# Now we build an entry script that uses our model reference:\n",
    "\n",
    "import json\n",
    "import pickle\n",
    "import numpy as np\n",
    "import pandas as pd\n",
    "from sklearn.externals import joblib\n",
    "from azureml.core.model import Model\n",
    "\n",
    "\n",
    "\n",
    "def init():\n",
    "    global model\n",
    "    model_path = Model.get_model_path(model_name = 'sklearn_bh_lr')\n",
    "    model = joblib.load(model_path)\n",
    "    \n",
    "    \n",
    "    \n",
    "def run(data):\n",
    "    data = np.array(json.loads(data)['data'])\n",
    "    result = model.predict(data.reshape(-1,1))\n",
    "    \n",
    "    return result.tolist()\n",
    "    \n"
   ]
  },
  {
   "cell_type": "code",
   "execution_count": null,
   "metadata": {},
   "outputs": [],
   "source": []
  },
  {
   "cell_type": "markdown",
   "metadata": {},
   "source": [
    "# Build Dependency list and save it as a yaml file."
   ]
  },
  {
   "cell_type": "code",
   "execution_count": null,
   "metadata": {},
   "outputs": [],
   "source": [
    "from azureml.core.conda_dependencies import CondaDependencies\n",
    "\n",
    "dependencies = CondaDependencies()\n",
    "dependencies.set_python_version(\"3.6.6\")\n",
    "dependencies.add_pip_package(\"scikit-learn==0.20.3\")\n",
    "dependencies.add_pip_package(\"numpy==1.16.2\")\n",
    "dependencies.add_pip_package(\"pandas==0.23.4\")\n",
    "dependencies.add_pip_package(\"matplotlib==3.0.0\")\n",
    "\n",
    "dependencies.save_to_file(\".\",\"myenv.yml\")"
   ]
  },
  {
   "cell_type": "code",
   "execution_count": null,
   "metadata": {},
   "outputs": [],
   "source": [
    "!ls"
   ]
  },
  {
   "cell_type": "code",
   "execution_count": null,
   "metadata": {},
   "outputs": [],
   "source": []
  },
  {
   "cell_type": "code",
   "execution_count": null,
   "metadata": {},
   "outputs": [],
   "source": [
    "from azureml.core.webservice import AciWebservice, Webservice\n",
    "from azureml.core.image import ContainerImage"
   ]
  },
  {
   "cell_type": "markdown",
   "metadata": {},
   "source": [
    "# Define deplolyment configuration and container image"
   ]
  },
  {
   "cell_type": "code",
   "execution_count": null,
   "metadata": {},
   "outputs": [],
   "source": [
    "# Define the configuration of compute: ACI with 1 cpu core and 1 gb of memory.\n",
    "aci_config = AciWebservice.deploy_configuration(cpu_cores = 1, memory_gb = 1)\n",
    "aci_config\n",
    "\n"
   ]
  },
  {
   "cell_type": "code",
   "execution_count": null,
   "metadata": {},
   "outputs": [],
   "source": [
    "# Build a container image\n",
    "image_config = ContainerImage.image_configuration(execution_script = \"score.py\", \n",
    "                                   runtime = \"python\", \n",
    "                                   conda_file = \"myenv.yml\")\n",
    "image_config\n"
   ]
  },
  {
   "cell_type": "code",
   "execution_count": null,
   "metadata": {},
   "outputs": [],
   "source": [
    "# Deploy the web service as an image containing the registered model.\n",
    "\n",
    "service = Webservice.deploy_from_model(name = \"housing-predictor\",\n",
    "                                        deployment_config = aci_config,\n",
    "                                        models = [model],\n",
    "                                        image_config = image_config,\n",
    "                                        workspace = ws)\n",
    "\n",
    "# The service deployment can take several minutes: wait for completion.\n",
    "service.wait_for_deployment(show_output = True)"
   ]
  },
  {
   "cell_type": "code",
   "execution_count": null,
   "metadata": {},
   "outputs": [],
   "source": [
    "#service = Webservice(ws, 'housing-predictor')"
   ]
  },
  {
   "cell_type": "code",
   "execution_count": null,
   "metadata": {},
   "outputs": [],
   "source": []
  },
  {
   "cell_type": "code",
   "execution_count": null,
   "metadata": {},
   "outputs": [],
   "source": [
    "#print(service.get_logs())"
   ]
  },
  {
   "cell_type": "code",
   "execution_count": null,
   "metadata": {},
   "outputs": [],
   "source": [
    "result = service.run(sample)\n",
    "#json.loads(sample)['data']\n",
    "print(\"return_from_aci_deployment: \", result)\n",
    "#my_model = joblib.load(model_path)\n",
    "#data = np.array([1,3,5,7])\n",
    "#data\n",
    "#data.size\n",
    "\n"
   ]
  },
  {
   "cell_type": "code",
   "execution_count": null,
   "metadata": {},
   "outputs": [],
   "source": [
    "service.delete()"
   ]
  },
  {
   "cell_type": "code",
   "execution_count": null,
   "metadata": {},
   "outputs": [],
   "source": []
  },
  {
   "cell_type": "code",
   "execution_count": null,
   "metadata": {},
   "outputs": [],
   "source": []
  },
  {
   "cell_type": "code",
   "execution_count": null,
   "metadata": {},
   "outputs": [],
   "source": []
  }
 ],
 "metadata": {
  "kernelspec": {
   "display_name": "Python 2",
   "language": "python",
   "name": "python2"
  },
  "language_info": {
   "codemirror_mode": {
    "name": "ipython",
    "version": 2
   },
   "file_extension": ".py",
   "mimetype": "text/x-python",
   "name": "python",
   "nbconvert_exporter": "python",
   "pygments_lexer": "ipython2",
   "version": "2.7.15"
  }
 },
 "nbformat": 4,
 "nbformat_minor": 2
}
